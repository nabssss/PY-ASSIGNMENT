{
  "nbformat": 4,
  "nbformat_minor": 0,
  "metadata": {
    "colab": {
      "name": "CAD 7",
      "provenance": [],
      "authorship_tag": "ABX9TyMxMlOIM+MODHVKtjcqNzmf",
      "include_colab_link": true
    },
    "kernelspec": {
      "name": "python3",
      "display_name": "Python 3"
    }
  },
  "cells": [
    {
      "cell_type": "markdown",
      "metadata": {
        "id": "view-in-github",
        "colab_type": "text"
      },
      "source": [
        "<a href=\"https://colab.research.google.com/github/nabssss/PY-ASSIGNMENT/blob/master/CAD_7.ipynb\" target=\"_parent\"><img src=\"https://colab.research.google.com/assets/colab-badge.svg\" alt=\"Open In Colab\"/></a>"
      ]
    },
    {
      "cell_type": "markdown",
      "metadata": {
        "id": "yBOHRp0QJvOn",
        "colab_type": "text"
      },
      "source": [
        "**Q1: EXECUTE THE FOLLOWING CODE IN PYTHON**"
      ]
    },
    {
      "cell_type": "code",
      "metadata": {
        "id": "ECw2J0FsJlJy",
        "colab_type": "code",
        "outputId": "068ac9f2-88c5-485c-e92d-c7fa0256ff8a",
        "colab": {
          "base_uri": "https://localhost:8080/",
          "height": 102
        }
      },
      "source": [
        "number=1+2*3/4.0 #WE USE SOME ARITHMETIC OPERATORS TO PERFOM THE OPERATION\n",
        "print(number) #PRINT THE VARIABLE\n",
        "remainder=11%3\n",
        "print(remainder)\n",
        "squared=7**2\n",
        "print(squared)\n",
        "cubed=2**3\n",
        "print(cubed)\n",
        "listRepeat=[1,2,3]*3\n",
        "print(listRepeat)"
      ],
      "execution_count": 0,
      "outputs": [
        {
          "output_type": "stream",
          "text": [
            "2.5\n",
            "2\n",
            "49\n",
            "8\n",
            "[1, 2, 3, 1, 2, 3, 1, 2, 3]\n"
          ],
          "name": "stdout"
        }
      ]
    },
    {
      "cell_type": "markdown",
      "metadata": {
        "id": "Xg3qsO0eKUoO",
        "colab_type": "text"
      },
      "source": [
        "**Q2:USER APPROPRIATE OPERATOR TO PERFORM OPERATION BETWEEN TWO STRING**"
      ]
    },
    {
      "cell_type": "code",
      "metadata": {
        "id": "pueu9r87KU2l",
        "colab_type": "code",
        "outputId": "04e8d232-6529-445f-ae58-c40ab0c5af1c",
        "colab": {
          "base_uri": "https://localhost:8080/",
          "height": 51
        }
      },
      "source": [
        "a=['abc']\n",
        "b=['def']\n",
        "print(a,b)\n",
        "listRepeat=[1,2,3]*3\n",
        "print(listRepeat)"
      ],
      "execution_count": 0,
      "outputs": [
        {
          "output_type": "stream",
          "text": [
            "['abc'] ['def']\n",
            "[1, 2, 3, 1, 2, 3, 1, 2, 3]\n"
          ],
          "name": "stdout"
        }
      ]
    },
    {
      "cell_type": "markdown",
      "metadata": {
        "id": "qckLMvLtKy0b",
        "colab_type": "text"
      },
      "source": [
        "**Q3:USER APPROPRIATE OPERATOR TO PERFORM OPERATION BETWEEN TWO LIST**"
      ]
    },
    {
      "cell_type": "code",
      "metadata": {
        "id": "q31QYbsMKzDN",
        "colab_type": "code",
        "outputId": "bfc569f0-01ec-4197-99e6-ae37db7a71f4",
        "colab": {
          "base_uri": "https://localhost:8080/",
          "height": 34
        }
      },
      "source": [
        "x=['nabieu']\n",
        "y=['Bangura']\n",
        "print(x+y)"
      ],
      "execution_count": 0,
      "outputs": [
        {
          "output_type": "stream",
          "text": [
            "['nabieu', 'Bangura']\n"
          ],
          "name": "stdout"
        }
      ]
    },
    {
      "cell_type": "markdown",
      "metadata": {
        "id": "-VLb3L2DLNSM",
        "colab_type": "text"
      },
      "source": [
        "**Q4: USER APPROPRIATE OPERATOR TO PERFORM OPERATION BETWEEN TWO TUPLE**"
      ]
    },
    {
      "cell_type": "code",
      "metadata": {
        "colab_type": "code",
        "outputId": "dc37544b-5ce5-43bb-d52f-d4ad1ceb821b",
        "id": "2Ij1dNoALbOu",
        "colab": {
          "base_uri": "https://localhost:8080/",
          "height": 34
        }
      },
      "source": [
        "x=('nabieu','ishmeal')\n",
        "y=('Bangura','kadija')\n",
        "print(x+y)"
      ],
      "execution_count": 0,
      "outputs": [
        {
          "output_type": "stream",
          "text": [
            "('nabieu', 'ishmeal', 'Bangura', 'kadija')\n"
          ],
          "name": "stdout"
        }
      ]
    },
    {
      "cell_type": "markdown",
      "metadata": {
        "id": "eNucQzLzLvY3",
        "colab_type": "text"
      },
      "source": [
        "**Q5: EXECUTE THE FOLLOWING EXPRESSION**"
      ]
    },
    {
      "cell_type": "code",
      "metadata": {
        "id": "pI9U9SEZLvrV",
        "colab_type": "code",
        "outputId": "0e0f5af8-d393-4e40-8196-605ea2b11f60",
        "colab": {
          "base_uri": "https://localhost:8080/",
          "height": 119
        }
      },
      "source": [
        "a=10\n",
        "b=5\n",
        "print(a>b)\n",
        "print(a<b)\n",
        "print(a<=b)\n",
        "print(a==b)\n",
        "print(a!=b)\n",
        "print(a>=b)"
      ],
      "execution_count": 0,
      "outputs": [
        {
          "output_type": "stream",
          "text": [
            "True\n",
            "False\n",
            "False\n",
            "False\n",
            "True\n",
            "True\n"
          ],
          "name": "stdout"
        }
      ]
    },
    {
      "cell_type": "markdown",
      "metadata": {
        "id": "1UVDnr_rMNza",
        "colab_type": "text"
      },
      "source": [
        "**Q6: TAKE TWO STRING TO CHECK IF THEY ARE EQUAL OR NOT**"
      ]
    },
    {
      "cell_type": "code",
      "metadata": {
        "id": "HiP1UFdVMPdf",
        "colab_type": "code",
        "outputId": "dc78e167-b9b9-45a7-ef02-d46955d30830",
        "colab": {
          "base_uri": "https://localhost:8080/",
          "height": 119
        }
      },
      "source": [
        "a=input(\"Enter your values \\n \")\n",
        "b=input(\"Enter your second values \\n\")\n",
        "if(a==b):\n",
        "  print(\"They are equal \\n\")\n",
        "else:\n",
        "  print(\"they are not equala\\n\")"
      ],
      "execution_count": 0,
      "outputs": [
        {
          "output_type": "stream",
          "text": [
            "Enter your values \n",
            " ABC\n",
            "Enter your second values \n",
            "ABC\n",
            "They are equal \n",
            "\n"
          ],
          "name": "stdout"
        }
      ]
    },
    {
      "cell_type": "markdown",
      "metadata": {
        "id": "pKKpQVjLMo42",
        "colab_type": "text"
      },
      "source": [
        "**Q7:EXECUTE THE FOLLOWING PROGRAM**"
      ]
    },
    {
      "cell_type": "code",
      "metadata": {
        "id": "njQG5O4IMpPF",
        "colab_type": "code",
        "outputId": "bfc498be-aea5-45e4-a86a-1d6d45f70efa",
        "colab": {
          "base_uri": "https://localhost:8080/",
          "height": 68
        }
      },
      "source": [
        "x=12\n",
        "y=13\n",
        "print(x>y and y>10)\n",
        "print(x>14 or y>14)\n",
        "not(x>14 or y>14)\n"
      ],
      "execution_count": 0,
      "outputs": [
        {
          "output_type": "stream",
          "text": [
            "False\n",
            "False\n"
          ],
          "name": "stdout"
        },
        {
          "output_type": "execute_result",
          "data": {
            "text/plain": [
              "True"
            ]
          },
          "metadata": {
            "tags": []
          },
          "execution_count": 17
        }
      ]
    }
  ]
}