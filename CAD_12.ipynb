{
  "nbformat": 4,
  "nbformat_minor": 0,
  "metadata": {
    "colab": {
      "name": "CAD 12",
      "provenance": [],
      "collapsed_sections": [],
      "authorship_tag": "ABX9TyNWvViYY3VqEwaCNQSmUEi2",
      "include_colab_link": true
    },
    "kernelspec": {
      "name": "python3",
      "display_name": "Python 3"
    }
  },
  "cells": [
    {
      "cell_type": "markdown",
      "metadata": {
        "id": "view-in-github",
        "colab_type": "text"
      },
      "source": [
        "<a href=\"https://colab.research.google.com/github/nabssss/PY-ASSIGNMENT/blob/master/CAD_12.ipynb\" target=\"_parent\"><img src=\"https://colab.research.google.com/assets/colab-badge.svg\" alt=\"Open In Colab\"/></a>"
      ]
    },
    {
      "cell_type": "markdown",
      "metadata": {
        "id": "Ag81iTFbGjMD",
        "colab_type": "text"
      },
      "source": [
        "**Q1: Write a program that ask the user to enter a string, and perform the following** "
      ]
    },
    {
      "cell_type": "code",
      "metadata": {
        "id": "BS31xOSwGhKY",
        "colab_type": "code",
        "outputId": "792bb54d-4af5-4900-a34b-81ea6b73ba06",
        "colab": {
          "base_uri": "https://localhost:8080/",
          "height": 170
        }
      },
      "source": [
        "str1='freetown'\n",
        "print(len(str1))  #length how many characters in a string\n",
        "print(str1*10)    # string repeated 10 times\n",
        "print(str1[0])    #first character of a string\n",
        "print(str1[::-2]) #last character of a string\n",
        "print(str1[::-1]) #reverse of the string backwards\n",
        "print(str1[7])  #seven character of a string\n",
        "print(str1[1:7]) #the string with first and last character removed\n",
        "print(str1.upper())  #uppercase of a string\n",
        "print(str1.replace(\"a\",\"e\")) #replacing a with e\n"
      ],
      "execution_count": 0,
      "outputs": [
        {
          "output_type": "stream",
          "text": [
            "8\n",
            "freetownfreetownfreetownfreetownfreetownfreetownfreetownfreetownfreetownfreetown\n",
            "f\n",
            "noer\n",
            "nwoteerf\n",
            "n\n",
            "reetow\n",
            "FREETOWN\n",
            "freetown\n"
          ],
          "name": "stdout"
        }
      ]
    },
    {
      "cell_type": "markdown",
      "metadata": {
        "id": "jEw-_fuTG1_4",
        "colab_type": "text"
      },
      "source": [
        "**Q2: Write a program that asks the user to enter a word and determines whether the word is a palindrome or not. A palindrome is a word that reads the same backwards as forwards.**"
      ]
    },
    {
      "cell_type": "code",
      "metadata": {
        "id": "TNHomqjhG2VR",
        "colab_type": "code",
        "outputId": "73c4c1d5-8767-4bc7-a2b8-4d3487ac990d",
        "colab": {
          "base_uri": "https://localhost:8080/",
          "height": 68
        }
      },
      "source": [
        "user=input(\"Enter your string \\n\")\n",
        "if(user==user[:: - 1]):\n",
        "   print(\"This is palindrome\")\n",
        "else:\n",
        "   print(\"This is not palindrome\")\n"
      ],
      "execution_count": 0,
      "outputs": [
        {
          "output_type": "stream",
          "text": [
            "Enter your string \n",
            "wow\n",
            "This is palindrome\n"
          ],
          "name": "stdout"
        }
      ]
    },
    {
      "cell_type": "markdown",
      "metadata": {
        "id": "HLafbnIwHGyX",
        "colab_type": "text"
      },
      "source": [
        "**Q3: write a program that ask the user to enter a string, and double the letters HHEELLLLOO**"
      ]
    },
    {
      "cell_type": "code",
      "metadata": {
        "id": "kW2Ncq3BHHDh",
        "colab_type": "code",
        "outputId": "584e0cc1-676b-4bad-8197-fed0ef521c6a",
        "colab": {
          "base_uri": "https://localhost:8080/",
          "height": 102
        }
      },
      "source": [
        "user=input(\"Enter the string \\n\")\n",
        "print(user[0]*2)\n",
        "print(user[1]*2)\n",
        "print(user[2]*2)"
      ],
      "execution_count": 0,
      "outputs": [
        {
          "output_type": "stream",
          "text": [
            "Enter the string \n",
            "hello\n",
            "hh\n",
            "ee\n",
            "ll\n"
          ],
          "name": "stdout"
        }
      ]
    },
    {
      "cell_type": "markdown",
      "metadata": {
        "id": "5_wxyoT_HdrN",
        "colab_type": "text"
      },
      "source": [
        "**Q4:Write a program that asks the user for a large integer and inserts commas into it according to the standard American convention for commas in large numbers. For instance, if the user enters 1000000, the output should be 1,000,000.( Try for India format 10,00000)**"
      ]
    },
    {
      "cell_type": "code",
      "metadata": {
        "id": "1rS6Hw85Hd9w",
        "colab_type": "code",
        "colab": {}
      },
      "source": [
        ""
      ],
      "execution_count": 0,
      "outputs": []
    },
    {
      "cell_type": "markdown",
      "metadata": {
        "id": "gUKYTzpzHqPS",
        "colab_type": "text"
      },
      "source": [
        "**Q5:In calculus, the derivative of x4 is 4x3. The derivative of x5 is 5x4. The derivative of x6 is 6x5. This pattern continues. Write a program that asks the user for input like x^3 or x^25 and prints the derivative. For example, if the user enters x^3, the program should print out 3x^2**"
      ]
    },
    {
      "cell_type": "code",
      "metadata": {
        "id": "t73jmURxHqe3",
        "colab_type": "code",
        "colab": {}
      },
      "source": [
        ""
      ],
      "execution_count": 0,
      "outputs": []
    }
  ]
}