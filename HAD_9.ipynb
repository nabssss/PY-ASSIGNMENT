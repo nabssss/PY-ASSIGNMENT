{
  "nbformat": 4,
  "nbformat_minor": 0,
  "metadata": {
    "colab": {
      "name": "HAD 9",
      "provenance": [],
      "authorship_tag": "ABX9TyPBxD+3fW8ZjSK8DDndTR+U",
      "include_colab_link": true
    },
    "kernelspec": {
      "name": "python3",
      "display_name": "Python 3"
    }
  },
  "cells": [
    {
      "cell_type": "markdown",
      "metadata": {
        "id": "view-in-github",
        "colab_type": "text"
      },
      "source": [
        "<a href=\"https://colab.research.google.com/github/nabssss/PY-ASSIGNMENT/blob/master/HAD_9.ipynb\" target=\"_parent\"><img src=\"https://colab.research.google.com/assets/colab-badge.svg\" alt=\"Open In Colab\"/></a>"
      ]
    },
    {
      "cell_type": "markdown",
      "metadata": {
        "id": "yN5hFnKVT8Gd",
        "colab_type": "text"
      },
      "source": [
        "**Q1: Take a number from the user and check whether it's divisible by 7 or not.**"
      ]
    },
    {
      "cell_type": "code",
      "metadata": {
        "id": "-alLLyFzR4ZA",
        "colab_type": "code",
        "outputId": "d3893e79-55b4-49cd-f121-ac59c2cf8800",
        "colab": {
          "base_uri": "https://localhost:8080/",
          "height": 68
        }
      },
      "source": [
        "user=int(input(\"enter the number\\n\"))\n",
        "\n",
        "if (user%7==0):\n",
        "    print(\"it is divisible\")\n",
        "else:\n",
        "    print(\"it is not\")\n"
      ],
      "execution_count": 0,
      "outputs": [
        {
          "output_type": "stream",
          "text": [
            "enter the number\n",
            "14\n",
            "it is divisible\n"
          ],
          "name": "stdout"
        }
      ]
    },
    {
      "cell_type": "markdown",
      "metadata": {
        "id": "iTE488hJUYL9",
        "colab_type": "text"
      },
      "source": [
        "**Q2: Fill the code and go to the output check if the food is available or not**"
      ]
    },
    {
      "cell_type": "code",
      "metadata": {
        "id": "K4Xdy90TUYhE",
        "colab_type": "code",
        "outputId": "6b901187-db74-47eb-9dc3-5ea279e36daf",
        "colab": {
          "base_uri": "https://localhost:8080/",
          "height": 85
        }
      },
      "source": [
        "menu=['pizza','burger','fries','coke']\n",
        "print(\"MENU\",menu)\n",
        "order=input(\"enter a food name from menu:\\n\")\n",
        "if(order in menu):\n",
        "    print(\"will serve you soon\")\n",
        "else:\n",
        "    print(\"sorry we are not delivering this order\")\n"
      ],
      "execution_count": 0,
      "outputs": [
        {
          "output_type": "stream",
          "text": [
            "MENU ['pizza', 'burger', 'fries', 'coke']\n",
            "enter a food name from menu:\n",
            "pizza\n",
            "will serve you soon\n"
          ],
          "name": "stdout"
        }
      ]
    },
    {
      "cell_type": "markdown",
      "metadata": {
        "id": "IU6qDboyUrJR",
        "colab_type": "text"
      },
      "source": [
        "**Q3:Write a program that asks the user to enter a length in centimeters. If the user enters a negative length, the program should tell the user that the entry is invalid. Otherwise, the program should convert the length to inches and print out the result. There are 2.54 centimeters in an inch.**"
      ]
    },
    {
      "cell_type": "code",
      "metadata": {
        "id": "lXq8gjtiUraa",
        "colab_type": "code",
        "outputId": "0d8b16c2-8850-43f5-e8e0-1ede5913283b",
        "colab": {
          "base_uri": "https://localhost:8080/",
          "height": 85
        }
      },
      "source": [
        "print(\"CONVERTING LENTH IN CENTI METER TO INCHES\")\n",
        "user=int(input(\"Enter the length in centi meter \\n\"))\n",
        "if(user<0):\n",
        "    print(\"invalid input\")\n",
        "else:\n",
        "    print('Length to inches is:',user/2.54)\n"
      ],
      "execution_count": 0,
      "outputs": [
        {
          "output_type": "stream",
          "text": [
            "CONVERTING LENTH IN CENTI METER TO INCHES\n",
            "Enter the length in centi meter \n",
            "15\n",
            "Length to inches is: 5.905511811023622\n"
          ],
          "name": "stdout"
        }
      ]
    },
    {
      "cell_type": "markdown",
      "metadata": {
        "id": "UtOR6dU2U78P",
        "colab_type": "text"
      },
      "source": [
        "**Q4: Generate a random number between 1 and 10. Ask the user to guess the number and print a message based on whether they get it right or not.**"
      ]
    },
    {
      "cell_type": "code",
      "metadata": {
        "id": "99fUq-f1U8Sj",
        "colab_type": "code",
        "outputId": "78f4cf64-e155-49bf-f05a-c8ea6a1da70f",
        "colab": {
          "base_uri": "https://localhost:8080/",
          "height": 68
        }
      },
      "source": [
        "from random import randint\n",
        "num=randint(1,10)\n",
        "guess=eval(input(\"enter guess\\n\"))\n",
        "if guess==num:\n",
        "    print(\"you got it\")\n",
        "else:\n",
        "    print(\"fail\")"
      ],
      "execution_count": 0,
      "outputs": [
        {
          "output_type": "stream",
          "text": [
            "enter guess\n",
            "5\n",
            "fail\n"
          ],
          "name": "stdout"
        }
      ]
    },
    {
      "cell_type": "markdown",
      "metadata": {
        "id": "LlOBTXKLVQSR",
        "colab_type": "text"
      },
      "source": [
        "**Q5. Write a program that generates 10000 random numbers between 1 and 100 and counts how many of them are multiples of 12.**"
      ]
    },
    {
      "cell_type": "code",
      "metadata": {
        "id": "KXJnkg_qVSkO",
        "colab_type": "code",
        "colab": {}
      },
      "source": [
        ""
      ],
      "execution_count": 0,
      "outputs": []
    },
    {
      "cell_type": "markdown",
      "metadata": {
        "id": "oIHlHkhwVS55",
        "colab_type": "text"
      },
      "source": [
        "**Q6. Write a program that asks the user to guess a random number between 1 and 10. If they guess right,they get 10 points added to their score,and they lose1 point for an incorrect guess. Give the user ﬁve numbers to guess and print their score after all the guessing is done**"
      ]
    },
    {
      "cell_type": "code",
      "metadata": {
        "id": "sV_b-1QQVYUV",
        "colab_type": "code",
        "colab": {}
      },
      "source": [
        ""
      ],
      "execution_count": 0,
      "outputs": []
    }
  ]
}