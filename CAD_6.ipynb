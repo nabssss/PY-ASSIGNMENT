{
  "nbformat": 4,
  "nbformat_minor": 0,
  "metadata": {
    "colab": {
      "name": "CAD 6",
      "provenance": [],
      "authorship_tag": "ABX9TyP10mA3SDMJLHYg+t/AjpOP",
      "include_colab_link": true
    },
    "kernelspec": {
      "name": "python3",
      "display_name": "Python 3"
    }
  },
  "cells": [
    {
      "cell_type": "markdown",
      "metadata": {
        "id": "view-in-github",
        "colab_type": "text"
      },
      "source": [
        "<a href=\"https://colab.research.google.com/github/nabssss/PY-ASSIGNMENT/blob/master/CAD_6.ipynb\" target=\"_parent\"><img src=\"https://colab.research.google.com/assets/colab-badge.svg\" alt=\"Open In Colab\"/></a>"
      ]
    },
    {
      "cell_type": "markdown",
      "metadata": {
        "id": "8XKY8oSBEmYI",
        "colab_type": "text"
      },
      "source": [
        "**Q1. PRINT THE BOX LIKE THE ONE BELOW**"
      ]
    },
    {
      "cell_type": "code",
      "metadata": {
        "id": "39LTWcIUEKM1",
        "colab_type": "code",
        "outputId": "10997c38-4989-4573-8979-9c3ded5f2ecc",
        "colab": {
          "base_uri": "https://localhost:8080/",
          "height": 85
        }
      },
      "source": [
        "for i in range (4): # USE LOOP\n",
        "  print('x'*10) #THE * WILL BE PRINTED TEN TIMES\n"
      ],
      "execution_count": 0,
      "outputs": [
        {
          "output_type": "stream",
          "text": [
            "xxxxxxxxxx\n",
            "xxxxxxxxxx\n",
            "xxxxxxxxxx\n",
            "xxxxxxxxxx\n"
          ],
          "name": "stdout"
        }
      ]
    },
    {
      "cell_type": "markdown",
      "metadata": {
        "id": "3BrSIkMaFj8-",
        "colab_type": "text"
      },
      "source": [
        "**Q2: PRINT THE BOX LIKE THE ONE BELOW**"
      ]
    },
    {
      "cell_type": "code",
      "metadata": {
        "id": "pFUxn8asFsuD",
        "colab_type": "code",
        "outputId": "bb76c4e8-5ac1-419e-a358-3319719cdc27",
        "colab": {
          "base_uri": "https://localhost:8080/",
          "height": 85
        }
      },
      "source": [
        "#WE PRINT THE PATTERN USING STAR * SIGN\n",
        "for i in range (1): #WE USE LOOP \n",
        "    print('*'*5) #AND PRINT THE STAR ACCORDING TO THE REQUIREMENT\n",
        "    print('*   *')\n",
        "    print('*   *')\n",
        "    print('*' * 5)"
      ],
      "execution_count": 0,
      "outputs": [
        {
          "output_type": "stream",
          "text": [
            "*****\n",
            "*   *\n",
            "*   *\n",
            "*****\n"
          ],
          "name": "stdout"
        }
      ]
    },
    {
      "cell_type": "markdown",
      "metadata": {
        "id": "-OVRCJNRGHLa",
        "colab_type": "text"
      },
      "source": [
        "**Q3: PRINT TRIANGLE LIKE THE ONE BELOW, DO IT IN REVERSE ORDER PRINT IN A DIAMOND FORMAT**"
      ]
    },
    {
      "cell_type": "code",
      "metadata": {
        "id": "X-zptU8sGHie",
        "colab_type": "code",
        "outputId": "d7f8148f-6486-4c49-d08a-d20e590f79ea",
        "colab": {
          "base_uri": "https://localhost:8080/",
          "height": 102
        }
      },
      "source": [
        "for i in range (1):#USING A LOOP\n",
        " print('*'*1)#PRINTING ACCORDING TO THE REQUIREMENT\n",
        "print('*'*2)\n",
        "print('*'*3)\n",
        "print('*'*4)\n",
        "print('*'*5)"
      ],
      "execution_count": 0,
      "outputs": [
        {
          "output_type": "stream",
          "text": [
            "*\n",
            "**\n",
            "***\n",
            "****\n",
            "*****\n"
          ],
          "name": "stdout"
        }
      ]
    },
    {
      "cell_type": "markdown",
      "metadata": {
        "id": "cd6IUyK2GkqA",
        "colab_type": "text"
      },
      "source": [
        "***Q4: ASK THE USER TO INPUT NAME PHONE NUMBER AND EMAIL. ONCE THE DETAILS IS TAKEN PRINT IT IN LIST*** "
      ]
    },
    {
      "cell_type": "code",
      "metadata": {
        "id": "-t5-czmuGlBA",
        "colab_type": "code",
        "outputId": "89abc22c-9caf-4e4e-b5dd-ae9b657e3cbb",
        "colab": {
          "base_uri": "https://localhost:8080/",
          "height": 136
        }
      },
      "source": [
        "n=input(\"Enter your name \\n\") #TAKING AN INPUT FROM THE USER NAME\n",
        "p=input(\"Enter your phone number \\n\")#TAKING INPUT FROM THE USER PHONENUMBER\n",
        "e=input(\"Enter your email \\n\")#TAKING INPUT FROM THE USER EMAIL\n",
        "user=['n','p','e']#CREATING A LIST\n",
        "print(n,p,e)#PRINTING THE LIST"
      ],
      "execution_count": 0,
      "outputs": [
        {
          "output_type": "stream",
          "text": [
            "Enter your name \n",
            "NABIEU ISHMEAL BANGURA\n",
            "Enter your phone number \n",
            "+917347636246\n",
            "Enter your email \n",
            "NABIEUI@YAHOO.COM\n",
            "NABIEU ISHMEAL BANGURA +917347636246 NABIEUI@YAHOO.COM\n"
          ],
          "name": "stdout"
        }
      ]
    },
    {
      "cell_type": "markdown",
      "metadata": {
        "id": "J9uGP0QNHYC3",
        "colab_type": "text"
      },
      "source": [
        "**Q5:WRITE A CODE THAT ASK USER FOR A STRING, AND CREATE A NEW STRING THAT DOUBLES EACH CHARACTER. FOR EXAMPLE, HELLO HEELLLLOO**"
      ]
    },
    {
      "cell_type": "code",
      "metadata": {
        "id": "BgdW9AwpHYW5",
        "colab_type": "code",
        "outputId": "d7b8971c-0c1a-490a-c330-9dc8ce7a3d4c",
        "colab": {
          "base_uri": "https://localhost:8080/",
          "height": 68
        }
      },
      "source": [
        "a=input(\"Enter the word 'HELLO' \\n\") #GETTING INPUT FROM THE USER\n",
        "print((a[0]*2)+(a[1]*2)+(a[2]*2)+(a[3]*2)+(a[4]*2)) #PRINTING ACCORDING TO THE INDEX VALUE\n",
        "\n"
      ],
      "execution_count": 0,
      "outputs": [
        {
          "output_type": "stream",
          "text": [
            "Enter the word 'HELLO' \n",
            "HELLO\n",
            "HHEELLLLOO\n"
          ],
          "name": "stdout"
        }
      ]
    },
    {
      "cell_type": "markdown",
      "metadata": {
        "id": "s2RQLR8JI_6N",
        "colab_type": "text"
      },
      "source": [
        "**Q6:WRITE A PROGRAM THAT ASK USER FOR THEIR NAME AND PRINT IN FUNNY PATTERN. EXAMPLE APPLE**"
      ]
    },
    {
      "cell_type": "code",
      "metadata": {
        "id": "CaiaaDxYJAh-",
        "colab_type": "code",
        "outputId": "018b59aa-ee49-4296-d7e5-87bc16c44c88",
        "colab": {
          "base_uri": "https://localhost:8080/",
          "height": 34
        }
      },
      "source": [
        "a='Apple'\n",
        "print((a[0])+(a[0]+a[1])+ (a[0]+a[1]*2)+(a[0]+a[1]*2+a[3])+(a))"
      ],
      "execution_count": 0,
      "outputs": [
        {
          "output_type": "stream",
          "text": [
            "AApAppApplApple\n"
          ],
          "name": "stdout"
        }
      ]
    }
  ]
}