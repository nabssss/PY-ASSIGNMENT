{
  "nbformat": 4,
  "nbformat_minor": 0,
  "metadata": {
    "colab": {
      "name": "HAD 8",
      "provenance": [],
      "authorship_tag": "ABX9TyMjiWJrscxQhEJjB3RnxV6j",
      "include_colab_link": true
    },
    "kernelspec": {
      "name": "python3",
      "display_name": "Python 3"
    }
  },
  "cells": [
    {
      "cell_type": "markdown",
      "metadata": {
        "id": "view-in-github",
        "colab_type": "text"
      },
      "source": [
        "<a href=\"https://colab.research.google.com/github/nabssss/PY-ASSIGNMENT/blob/master/HAD_8.ipynb\" target=\"_parent\"><img src=\"https://colab.research.google.com/assets/colab-badge.svg\" alt=\"Open In Colab\"/></a>"
      ]
    },
    {
      "cell_type": "markdown",
      "metadata": {
        "id": "Ng_kSGAqRLVu",
        "colab_type": "text"
      },
      "source": [
        "**Q1: Write a program that generates and prints 50 random integers, each between 3 and 6.**"
      ]
    },
    {
      "cell_type": "code",
      "metadata": {
        "id": "gQDkC8vURJUG",
        "colab_type": "code",
        "outputId": "36ff73d5-9ffa-49d9-f9a1-ad69cb88f3a9",
        "colab": {
          "base_uri": "https://localhost:8080/",
          "height": 34
        }
      },
      "source": [
        "import random\n",
        "r=random.randint(3,6)\n",
        "print(r)"
      ],
      "execution_count": 0,
      "outputs": [
        {
          "output_type": "stream",
          "text": [
            "6\n"
          ],
          "name": "stdout"
        }
      ]
    },
    {
      "cell_type": "markdown",
      "metadata": {
        "id": "1TKNv1H2RZGy",
        "colab_type": "text"
      },
      "source": [
        "**Q2:Write a program that generates a random number, x, between 1 and 50, a random number y between 2 and 5, and computes xy.**"
      ]
    },
    {
      "cell_type": "code",
      "metadata": {
        "id": "dcaRz_-XRZYK",
        "colab_type": "code",
        "outputId": "56dee244-35de-41d0-9d3c-fd3ec745612b",
        "colab": {
          "base_uri": "https://localhost:8080/",
          "height": 51
        }
      },
      "source": [
        "import random\n",
        "x=random.randint(1,50)\n",
        "y=random.randint(2,5)\n",
        "print(x,y)\n",
        "computes=x+y\n",
        "print(computes)"
      ],
      "execution_count": 0,
      "outputs": [
        {
          "output_type": "stream",
          "text": [
            "35 5\n",
            "40\n"
          ],
          "name": "stdout"
        }
      ]
    }
  ]
}