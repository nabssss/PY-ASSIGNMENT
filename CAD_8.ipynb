{
  "nbformat": 4,
  "nbformat_minor": 0,
  "metadata": {
    "colab": {
      "name": "CAD 8",
      "provenance": [],
      "authorship_tag": "ABX9TyNY2ATdkYjAMAf2zOdAnHSR",
      "include_colab_link": true
    },
    "kernelspec": {
      "name": "python3",
      "display_name": "Python 3"
    }
  },
  "cells": [
    {
      "cell_type": "markdown",
      "metadata": {
        "id": "view-in-github",
        "colab_type": "text"
      },
      "source": [
        "<a href=\"https://colab.research.google.com/github/nabssss/PY-ASSIGNMENT/blob/master/CAD_8.ipynb\" target=\"_parent\"><img src=\"https://colab.research.google.com/assets/colab-badge.svg\" alt=\"Open In Colab\"/></a>"
      ]
    },
    {
      "cell_type": "markdown",
      "metadata": {
        "id": "gt1TpmIS81aF",
        "colab_type": "text"
      },
      "source": [
        "**Q1: Import the module math and print the value of ‘pi’ from the math module.**"
      ]
    },
    {
      "cell_type": "code",
      "metadata": {
        "id": "snTtYZ9K8jMM",
        "colab_type": "code",
        "outputId": "d0ec2dee-f540-467a-f3e0-051821deec19",
        "colab": {
          "base_uri": "https://localhost:8080/",
          "height": 34
        }
      },
      "source": [
        "import math\n",
        "x=(math.pi)\n",
        "print(x)"
      ],
      "execution_count": 0,
      "outputs": [
        {
          "output_type": "stream",
          "text": [
            "3.141592653589793\n"
          ],
          "name": "stdout"
        }
      ]
    },
    {
      "cell_type": "markdown",
      "metadata": {
        "id": "S3gvYS_T9dJa",
        "colab_type": "text"
      },
      "source": [
        "**Q2: Ask values from user to use pow() and sqrt() methods from the math module**"
      ]
    },
    {
      "cell_type": "code",
      "metadata": {
        "id": "OEwu5Ejv9SFF",
        "colab_type": "code",
        "outputId": "afc0cf69-8a0d-47c2-d11a-3798bf8cea8c",
        "colab": {
          "base_uri": "https://localhost:8080/",
          "height": 34
        }
      },
      "source": [
        "from math import pi,pow\n",
        "x=pow(2,3)\n",
        "print(x)"
      ],
      "execution_count": 0,
      "outputs": [
        {
          "output_type": "stream",
          "text": [
            "8.0\n"
          ],
          "name": "stdout"
        }
      ]
    },
    {
      "cell_type": "markdown",
      "metadata": {
        "id": "PMkCqokq-CUS",
        "colab_type": "text"
      },
      "source": [
        "**Q3:Generate a random number of 5 digit using a random module.**"
      ]
    },
    {
      "cell_type": "code",
      "metadata": {
        "id": "TXw4EBXU-O7m",
        "colab_type": "code",
        "outputId": "67ca921b-dedc-415b-d193-12f9891c33f1",
        "colab": {
          "base_uri": "https://localhost:8080/",
          "height": 34
        }
      },
      "source": [
        "import random\n",
        "x=random.randint(50000,60000)\n",
        "print(x)"
      ],
      "execution_count": 0,
      "outputs": [
        {
          "output_type": "stream",
          "text": [
            "53287\n"
          ],
          "name": "stdout"
        }
      ]
    },
    {
      "cell_type": "markdown",
      "metadata": {
        "id": "V-XCQAC--rmF",
        "colab_type": "text"
      },
      "source": [
        "**Q4: Make a movie list and fetch name of one movie randomly using choice() from random module.**"
      ]
    },
    {
      "cell_type": "code",
      "metadata": {
        "id": "Vy0LimA0-r1L",
        "colab_type": "code",
        "outputId": "e02c3bc7-50ab-4934-8826-a689b861c8fa",
        "colab": {
          "base_uri": "https://localhost:8080/",
          "height": 51
        }
      },
      "source": [
        "import random\n",
        "r=random.randint(1,100)\n",
        "print(r)\n",
        "movie_list=['wakanda','the boy is mine']\n",
        "movieName=random.choice(movie_list)\n",
        "print(movieName)"
      ],
      "execution_count": 0,
      "outputs": [
        {
          "output_type": "stream",
          "text": [
            "90\n",
            "wakanda\n"
          ],
          "name": "stdout"
        }
      ]
    },
    {
      "cell_type": "markdown",
      "metadata": {
        "id": "Iz7gCxPvAEHA",
        "colab_type": "text"
      },
      "source": [
        "**Q5: Execute the following**\n",
        "\n",
        "**a. randint(0,9)**\n",
        "\n",
        "**b. randrange(0,10,2)**"
      ]
    },
    {
      "cell_type": "code",
      "metadata": {
        "id": "981L9QN2AEWo",
        "colab_type": "code",
        "outputId": "f2133444-2f68-4c50-b72c-a033940a53ef",
        "colab": {
          "base_uri": "https://localhost:8080/",
          "height": 51
        }
      },
      "source": [
        "import random\n",
        "r=random.randint(0,9)\n",
        "s=random.randrange(0,10,2)\n",
        "print(r)\n",
        "print(s)"
      ],
      "execution_count": 0,
      "outputs": [
        {
          "output_type": "stream",
          "text": [
            "2\n",
            "6\n"
          ],
          "name": "stdout"
        }
      ]
    }
  ]
}