{
  "nbformat": 4,
  "nbformat_minor": 0,
  "metadata": {
    "colab": {
      "name": "HAD 7",
      "provenance": [],
      "collapsed_sections": [],
      "authorship_tag": "ABX9TyM1SoG3l5UKYfAnMne9hRlx",
      "include_colab_link": true
    },
    "kernelspec": {
      "name": "python3",
      "display_name": "Python 3"
    }
  },
  "cells": [
    {
      "cell_type": "markdown",
      "metadata": {
        "id": "view-in-github",
        "colab_type": "text"
      },
      "source": [
        "<a href=\"https://colab.research.google.com/github/nabssss/PY-ASSIGNMENT/blob/master/HAD_7.ipynb\" target=\"_parent\"><img src=\"https://colab.research.google.com/assets/colab-badge.svg\" alt=\"Open In Colab\"/></a>"
      ]
    },
    {
      "cell_type": "markdown",
      "metadata": {
        "id": "fLYyovxENyu8",
        "colab_type": "text"
      },
      "source": [
        "**Q1: Write a program that computes and prints the result of 512 − 282/47 · 48 + 5. (It is roughly .1017)**"
      ]
    },
    {
      "cell_type": "code",
      "metadata": {
        "id": "H71alvm1Nsh1",
        "colab_type": "code",
        "outputId": "37e51513-2753-4636-8e84-f9aad99ff08f",
        "colab": {
          "base_uri": "https://localhost:8080/",
          "height": 34
        }
      },
      "source": [
        "calc=512-282%47.48+5\n",
        "print(calc)"
      ],
      "execution_count": 0,
      "outputs": [
        {
          "output_type": "stream",
          "text": [
            "472.4\n"
          ],
          "name": "stdout"
        }
      ]
    },
    {
      "cell_type": "markdown",
      "metadata": {
        "id": "0pkJFoJNOGyl",
        "colab_type": "text"
      },
      "source": [
        "**Q2: Ask a user to enter a number and print the square of that number**"
      ]
    },
    {
      "cell_type": "code",
      "metadata": {
        "id": "2nwNmxUqOHSZ",
        "colab_type": "code",
        "colab": {}
      },
      "source": [
        "user=int(input(\"Enter a number\\n\"))\n",
        "print('the square is',user **2)\n"
      ],
      "execution_count": 0,
      "outputs": []
    },
    {
      "cell_type": "markdown",
      "metadata": {
        "id": "30sEettBOYn0",
        "colab_type": "text"
      },
      "source": [
        "**Q3: Ask a user to enter a number and print the square of that number**"
      ]
    },
    {
      "cell_type": "code",
      "metadata": {
        "id": "YtOkS2Y-OZDe",
        "colab_type": "code",
        "outputId": "143d0fd3-fc62-4177-a65b-98cca3aa0053",
        "colab": {
          "base_uri": "https://localhost:8080/",
          "height": 51
        }
      },
      "source": [
        "user=int(input(\"Enter the number \"))\n",
        "print('the square of',user,'is',user **2)\n"
      ],
      "execution_count": 0,
      "outputs": [
        {
          "output_type": "stream",
          "text": [
            "Enter the number 5\n",
            "the square of 5 is 25\n"
          ],
          "name": "stdout"
        }
      ]
    },
    {
      "cell_type": "markdown",
      "metadata": {
        "id": "8L7o1LyNPRrd",
        "colab_type": "text"
      },
      "source": [
        "**Q3**"
      ]
    },
    {
      "cell_type": "code",
      "metadata": {
        "id": "Yc_tv24MPit1",
        "colab_type": "code",
        "colab": {}
      },
      "source": [
        ""
      ],
      "execution_count": 0,
      "outputs": []
    },
    {
      "cell_type": "markdown",
      "metadata": {
        "id": "RkAPxDDHPcgD",
        "colab_type": "text"
      },
      "source": [
        "**Q4 Write a program that asks the user for a weight in kilograms and converts it to pounds. There are 2.2 pounds in a kilogram.**"
      ]
    },
    {
      "cell_type": "code",
      "metadata": {
        "id": "kP3WdHFXPcwd",
        "colab_type": "code",
        "outputId": "ba3c81d8-bcda-474e-9adf-c3bac26fd08e",
        "colab": {
          "base_uri": "https://localhost:8080/",
          "height": 68
        }
      },
      "source": [
        "user=int(input(\"Enter the weight in kilograms\\n\"))\n",
        "print(user/2.2,'pounds')"
      ],
      "execution_count": 0,
      "outputs": [
        {
          "output_type": "stream",
          "text": [
            "Enter the weight in kilograms\n",
            "5\n",
            "2.2727272727272725 pounds\n"
          ],
          "name": "stdout"
        }
      ]
    },
    {
      "cell_type": "markdown",
      "metadata": {
        "id": "Deu1UQnqPvDt",
        "colab_type": "text"
      },
      "source": [
        "**Q5:Write a program that asks the user to enter three numbers (use three separate input state- ments). Create variables called total and average that hold the sum and average of the three numbers and print out the values of total and average.**"
      ]
    },
    {
      "cell_type": "code",
      "metadata": {
        "id": "DuIBumQoPR3R",
        "colab_type": "code",
        "outputId": "62577222-70f3-49a7-d792-7d8f83cd2b0d",
        "colab": {
          "base_uri": "https://localhost:8080/",
          "height": 153
        }
      },
      "source": [
        "u1=int(input(\"enter no 1\\n\"))\n",
        "u2=int(input(\"enter no2\\n\"))\n",
        "u3=int(input(\"enter no3\\n\"))\n",
        "total=u1+u2+u3\n",
        "print('total is:',total)\n",
        "average=total/3\n",
        "print('Average is:',average)\n"
      ],
      "execution_count": 0,
      "outputs": [
        {
          "output_type": "stream",
          "text": [
            "enter no 1\n",
            "2\n",
            "enter no2\n",
            "3\n",
            "enter no3\n",
            "4\n",
            "total is: 9\n",
            "Average is: 3.0\n"
          ],
          "name": "stdout"
        }
      ]
    },
    {
      "cell_type": "markdown",
      "metadata": {
        "id": "nr1zq-OuQHXt",
        "colab_type": "text"
      },
      "source": [
        "**Q6:A lot of cell phones have tip calculators. Write one. Ask the user for the price of the meal and the percent tip they want to leave. Then print both the tip amount and the total bill with the tip included.**"
      ]
    },
    {
      "cell_type": "code",
      "metadata": {
        "id": "FsaB8LtXQP_D",
        "colab_type": "code",
        "outputId": "116446a9-d235-4bb8-eb67-61f6b995156a",
        "colab": {
          "base_uri": "https://localhost:8080/",
          "height": 85
        }
      },
      "source": [
        "mealprice=input(\"Enter the price of the meal:\")\n",
        "tip=input(\"Enter amount of tip you want to leave:\")\n",
        "print(\"The total amount is:\")\n",
        "print(mealprice + tip)"
      ],
      "execution_count": 0,
      "outputs": [
        {
          "output_type": "stream",
          "text": [
            "Enter the price of the meal:100\n",
            "Enter amount of tip you want to leave:50\n",
            "The total amount is:\n",
            "10050\n"
          ],
          "name": "stdout"
        }
      ]
    }
  ]
}