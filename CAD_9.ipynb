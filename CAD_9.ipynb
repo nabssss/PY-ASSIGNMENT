{
  "nbformat": 4,
  "nbformat_minor": 0,
  "metadata": {
    "colab": {
      "name": "CAD 9",
      "provenance": [],
      "authorship_tag": "ABX9TyOvLhE687hnjt9hpQ8cZzCK",
      "include_colab_link": true
    },
    "kernelspec": {
      "name": "python3",
      "display_name": "Python 3"
    }
  },
  "cells": [
    {
      "cell_type": "markdown",
      "metadata": {
        "id": "view-in-github",
        "colab_type": "text"
      },
      "source": [
        "<a href=\"https://colab.research.google.com/github/nabssss/PY-ASSIGNMENT/blob/master/CAD_9.ipynb\" target=\"_parent\"><img src=\"https://colab.research.google.com/assets/colab-badge.svg\" alt=\"Open In Colab\"/></a>"
      ]
    },
    {
      "cell_type": "markdown",
      "metadata": {
        "id": "Ju-_LwRqBS3z",
        "colab_type": "text"
      },
      "source": [
        "**Q1: Write a program that asks the user to enter a length in centimeters. If the user enters a negative length, the program should tell the user that the entry is invalid. Otherwise, the program should convert the length to inches and print out the result. There are 2.54 centimeters in an inch.** "
      ]
    },
    {
      "cell_type": "code",
      "metadata": {
        "id": "Tn1ucBJIBQe2",
        "colab_type": "code",
        "outputId": "2a7c779c-6010-4637-f840-b8337866a006",
        "colab": {
          "base_uri": "https://localhost:8080/",
          "height": 51
        }
      },
      "source": [
        "user=int(input(\"Enter the centimeter in length\"))\n",
        "if user<0:\n",
        "  print(\"invalid\")\n",
        "else:\n",
        "    print(user/2.54, 'inches')"
      ],
      "execution_count": 0,
      "outputs": [
        {
          "output_type": "stream",
          "text": [
            "Enter the centimeter in length10\n",
            "3.937007874015748 inches\n"
          ],
          "name": "stdout"
        }
      ]
    },
    {
      "cell_type": "markdown",
      "metadata": {
        "id": "WY_yPLfXCNSW",
        "colab_type": "text"
      },
      "source": [
        "**Q2: Generate a random number between 1 and 10. Ask the user to guess the number and print a message based on whether they get it right or not.**"
      ]
    },
    {
      "cell_type": "code",
      "metadata": {
        "id": "MyABsMUPCNia",
        "colab_type": "code",
        "outputId": "5edf1880-97f7-4bfd-fdd7-fb1a54359133",
        "colab": {
          "base_uri": "https://localhost:8080/",
          "height": 51
        }
      },
      "source": [
        "import random\n",
        "r=random.randint(1,10)\n",
        "guess=eval(input(\"Enter the random number\"))\n",
        "if user==r:\n",
        "  print(\"you got it\")\n",
        "else:\n",
        "  print(\"it is wrong\")"
      ],
      "execution_count": 0,
      "outputs": [
        {
          "output_type": "stream",
          "text": [
            "Enter the random number5\n",
            "it is wrong\n"
          ],
          "name": "stdout"
        }
      ]
    },
    {
      "cell_type": "markdown",
      "metadata": {
        "id": "65IolYXsDC0t",
        "colab_type": "text"
      },
      "source": [
        "**Q3: Write a multiplication game program for kids. The program should give the player 10 randomly generated multiplication questions to do. After each, the program should tell them whether they got it right or wrong and what the correct answer is**"
      ]
    },
    {
      "cell_type": "code",
      "metadata": {
        "id": "21Xoha0tDDJn",
        "colab_type": "code",
        "colab": {}
      },
      "source": [
        ""
      ],
      "execution_count": 0,
      "outputs": []
    },
    {
      "cell_type": "markdown",
      "metadata": {
        "id": "HNbNroqzDgl3",
        "colab_type": "text"
      },
      "source": [
        "**Q4: Write a program that counts how many of the squares of the numbers from 1 to 100 end in a 4 and how many end in a 9.**"
      ]
    },
    {
      "cell_type": "code",
      "metadata": {
        "id": "-RxGC5o3Dg-z",
        "colab_type": "code",
        "outputId": "ad700560-e39d-40c5-b2d3-8428fde2b43e",
        "colab": {
          "base_uri": "https://localhost:8080/",
          "height": 88
        }
      },
      "source": [
        "list1=[]\n",
        "for i in range(1,100):\n",
        "  b=i**2\n",
        "  list1.append(b)\n",
        "print(list1)\n",
        "count=0\n",
        "for item in list1:\n",
        "    temp=str(item)\n",
        "if temp.endswith('4'):\n",
        "    count=count+1\n",
        "print(temp)\n",
        "print(\"Number of times 4 encountered: \", count)"
      ],
      "execution_count": 0,
      "outputs": [
        {
          "output_type": "stream",
          "text": [
            "[1, 4, 9, 16, 25, 36, 49, 64, 81, 100, 121, 144, 169, 196, 225, 256, 289, 324, 361, 400, 441, 484, 529, 576, 625, 676, 729, 784, 841, 900, 961, 1024, 1089, 1156, 1225, 1296, 1369, 1444, 1521, 1600, 1681, 1764, 1849, 1936, 2025, 2116, 2209, 2304, 2401, 2500, 2601, 2704, 2809, 2916, 3025, 3136, 3249, 3364, 3481, 3600, 3721, 3844, 3969, 4096, 4225, 4356, 4489, 4624, 4761, 4900, 5041, 5184, 5329, 5476, 5625, 5776, 5929, 6084, 6241, 6400, 6561, 6724, 6889, 7056, 7225, 7396, 7569, 7744, 7921, 8100, 8281, 8464, 8649, 8836, 9025, 9216, 9409, 9604, 9801]\n",
            "9801\n",
            "Number of times 4 encountered:  0\n"
          ],
          "name": "stdout"
        }
      ]
    }
  ]
}