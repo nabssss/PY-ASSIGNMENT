{
  "nbformat": 4,
  "nbformat_minor": 0,
  "metadata": {
    "colab": {
      "name": "HAD 6",
      "provenance": [],
      "authorship_tag": "ABX9TyPsAnBpLZwo6gzM7/OS1hFi",
      "include_colab_link": true
    },
    "kernelspec": {
      "name": "python3",
      "display_name": "Python 3"
    }
  },
  "cells": [
    {
      "cell_type": "markdown",
      "metadata": {
        "id": "view-in-github",
        "colab_type": "text"
      },
      "source": [
        "<a href=\"https://colab.research.google.com/github/nabssss/PY-ASSIGNMENT/blob/master/HAD_6.ipynb\" target=\"_parent\"><img src=\"https://colab.research.google.com/assets/colab-badge.svg\" alt=\"Open In Colab\"/></a>"
      ]
    },
    {
      "cell_type": "markdown",
      "metadata": {
        "id": "7KSXQ0YTMlmP",
        "colab_type": "text"
      },
      "source": [
        "**Q1: Execute the following code to understand the syntax of python**"
      ]
    },
    {
      "cell_type": "code",
      "metadata": {
        "id": "S2bCUJxNMbT_",
        "colab_type": "code",
        "outputId": "2f962e7b-2a7d-4f12-da53-2a7110d60487",
        "colab": {
          "base_uri": "https://localhost:8080/",
          "height": 187
        }
      },
      "source": [
        "print(\"This is nabieu\")\n",
        "print('nabieu')\n",
        "print('''my name is Nabieu\n",
        "          ishmeal Bangura''')\n",
        "string1=['Hello world']\n",
        "print(string1)\n",
        "string2=[\"we're#1!\"]\n",
        "print(string2)\n",
        "string3=[\"123\"]\n",
        "print(string3)\n",
        "string4=['''I said,\"put it over by the llama,''']\n",
        "print(string4)\n",
        "number=12\n",
        "print(number)\n",
        "float=3.14\n",
        "print(float)"
      ],
      "execution_count": 0,
      "outputs": [
        {
          "output_type": "stream",
          "text": [
            "This is nabieu\n",
            "nabieu\n",
            "my name is Nabieu\n",
            "          ishmeal Bangura\n",
            "['Hello world']\n",
            "[\"we're#1!\"]\n",
            "['123']\n",
            "['I said,\"put it over by the llama,']\n",
            "12\n",
            "3.14\n"
          ],
          "name": "stdout"
        }
      ]
    },
    {
      "cell_type": "markdown",
      "metadata": {
        "id": "4zD70ztgM584",
        "colab_type": "text"
      },
      "source": [
        "**Q2: Use type() method to check the datatypes of the above created variables.**"
      ]
    },
    {
      "cell_type": "code",
      "metadata": {
        "id": "-9_74_mmM6Qj",
        "colab_type": "code",
        "outputId": "8a07d538-aea5-447e-b399-1f5a0310e578",
        "colab": {
          "base_uri": "https://localhost:8080/",
          "height": 34
        }
      },
      "source": [
        "user='abcd'\n",
        "print(type(user))"
      ],
      "execution_count": 0,
      "outputs": [
        {
          "output_type": "stream",
          "text": [
            "<class 'str'>\n"
          ],
          "name": "stdout"
        }
      ]
    },
    {
      "cell_type": "markdown",
      "metadata": {
        "id": "Il57j20lNNkH",
        "colab_type": "text"
      },
      "source": [
        "**Q3: Execute the following**"
      ]
    },
    {
      "cell_type": "code",
      "metadata": {
        "id": "J_aheTjONN0r",
        "colab_type": "code",
        "outputId": "cc48c2cc-4420-4dcc-def0-f97ec58d7a1c",
        "colab": {
          "base_uri": "https://localhost:8080/",
          "height": 34
        }
      },
      "source": [
        "movies=['Avengers','spider Man','Super Man']\n",
        "movies=('Avengers','Spider Man','Super Man')\n",
        "print(movies)"
      ],
      "execution_count": 0,
      "outputs": [
        {
          "output_type": "stream",
          "text": [
            "('Avengers', 'Spider Man', 'Super Man')\n"
          ],
          "name": "stdout"
        }
      ]
    }
  ]
}