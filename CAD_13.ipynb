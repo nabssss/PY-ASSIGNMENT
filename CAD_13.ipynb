{
  "nbformat": 4,
  "nbformat_minor": 0,
  "metadata": {
    "colab": {
      "name": "CAD 13",
      "provenance": [],
      "collapsed_sections": [],
      "authorship_tag": "ABX9TyP35VGPei/s2jYGuKrgZO89",
      "include_colab_link": true
    },
    "kernelspec": {
      "name": "python3",
      "display_name": "Python 3"
    }
  },
  "cells": [
    {
      "cell_type": "markdown",
      "metadata": {
        "id": "view-in-github",
        "colab_type": "text"
      },
      "source": [
        "<a href=\"https://colab.research.google.com/github/nabssss/PY-ASSIGNMENT/blob/master/CAD_13.ipynb\" target=\"_parent\"><img src=\"https://colab.research.google.com/assets/colab-badge.svg\" alt=\"Open In Colab\"/></a>"
      ]
    },
    {
      "cell_type": "markdown",
      "metadata": {
        "id": "24C2iEICIjzW",
        "colab_type": "text"
      },
      "source": [
        "**Q1:Ask the user to input- Name, Phone Number and Email id . Once Details are taken insert the details in a list and print the list.**"
      ]
    },
    {
      "cell_type": "code",
      "metadata": {
        "id": "ahR-XfcIIh1s",
        "colab_type": "code",
        "outputId": "dd5f3e5d-d645-4e77-b675-56d8c5ae9f9b",
        "colab": {
          "base_uri": "https://localhost:8080/",
          "height": 136
        }
      },
      "source": [
        "n=input(\"Enter your name\\n\")\n",
        "p=input(\"Enter your p.no\\n\")\n",
        "e=input(\"enter your email\\n\")\n",
        "user=[n,p,e]\n",
        "print(user)"
      ],
      "execution_count": 0,
      "outputs": [
        {
          "output_type": "stream",
          "text": [
            "Enter your name\n",
            "NABIEU ISHMEAL BANGURA\n",
            "Enter your p.no\n",
            "7347636246\n",
            "enter your email\n",
            "NABIEUI@YAHOO.COM\n",
            "['NABIEU ISHMEAL BANGURA', '7347636246', 'NABIEUI@YAHOO.COM']\n"
          ],
          "name": "stdout"
        }
      ]
    },
    {
      "cell_type": "markdown",
      "metadata": {
        "id": "YXPy8HOII2Hk",
        "colab_type": "text"
      },
      "source": [
        "**Q2. Write a program that generates a list L of 50 random numbers between 1 and 100**"
      ]
    },
    {
      "cell_type": "code",
      "metadata": {
        "id": "rjAXCucsI2S6",
        "colab_type": "code",
        "outputId": "bf916dcd-6907-46c1-e9de-1717ec031212",
        "colab": {
          "base_uri": "https://localhost:8080/",
          "height": 34
        }
      },
      "source": [
        "import random\n",
        "r=random.randint(1,100)\n",
        "print(r)\n"
      ],
      "execution_count": 0,
      "outputs": [
        {
          "output_type": "stream",
          "text": [
            "76\n"
          ],
          "name": "stdout"
        }
      ]
    },
    {
      "cell_type": "markdown",
      "metadata": {
        "id": "CgsUmmSjJGAF",
        "colab_type": "text"
      },
      "source": [
        "**Q3: write a program that ask the user for integers and perfom the following**"
      ]
    },
    {
      "cell_type": "code",
      "metadata": {
        "id": "n7Xk4SzQJGRi",
        "colab_type": "code",
        "outputId": "543e46ea-faea-43dc-84db-185e93d3a08a",
        "colab": {
          "base_uri": "https://localhost:8080/",
          "height": 249
        }
      },
      "source": [
        "user=int(input(\"enter the list of interger\\n\"))\n",
        "print('the number of item:',(len(user)))\n",
        "print('the last digit of item:',user[-1])\n",
        "print('The reverse of item in list:' ,user[::-1])\n"
      ],
      "execution_count": 0,
      "outputs": [
        {
          "output_type": "stream",
          "text": [
            "enter the list of interger\n",
            "123\n"
          ],
          "name": "stdout"
        },
        {
          "output_type": "error",
          "ename": "TypeError",
          "evalue": "ignored",
          "traceback": [
            "\u001b[0;31m---------------------------------------------------------------------------\u001b[0m",
            "\u001b[0;31mTypeError\u001b[0m                                 Traceback (most recent call last)",
            "\u001b[0;32m<ipython-input-24-8390573bed92>\u001b[0m in \u001b[0;36m<module>\u001b[0;34m()\u001b[0m\n\u001b[1;32m      1\u001b[0m \u001b[0muser\u001b[0m\u001b[0;34m=\u001b[0m\u001b[0mint\u001b[0m\u001b[0;34m(\u001b[0m\u001b[0minput\u001b[0m\u001b[0;34m(\u001b[0m\u001b[0;34m\"enter the list of interger\\n\"\u001b[0m\u001b[0;34m)\u001b[0m\u001b[0;34m)\u001b[0m\u001b[0;34m\u001b[0m\u001b[0;34m\u001b[0m\u001b[0m\n\u001b[0;32m----> 2\u001b[0;31m \u001b[0mprint\u001b[0m\u001b[0;34m(\u001b[0m\u001b[0;34m'the number of item:'\u001b[0m\u001b[0;34m,\u001b[0m\u001b[0;34m(\u001b[0m\u001b[0mlen\u001b[0m\u001b[0;34m(\u001b[0m\u001b[0muser\u001b[0m\u001b[0;34m)\u001b[0m\u001b[0;34m)\u001b[0m\u001b[0;34m)\u001b[0m\u001b[0;34m\u001b[0m\u001b[0;34m\u001b[0m\u001b[0m\n\u001b[0m\u001b[1;32m      3\u001b[0m \u001b[0mprint\u001b[0m\u001b[0;34m(\u001b[0m\u001b[0;34m'the last digit of item:'\u001b[0m\u001b[0;34m,\u001b[0m\u001b[0muser\u001b[0m\u001b[0;34m[\u001b[0m\u001b[0;34m-\u001b[0m\u001b[0;36m1\u001b[0m\u001b[0;34m]\u001b[0m\u001b[0;34m)\u001b[0m\u001b[0;34m\u001b[0m\u001b[0;34m\u001b[0m\u001b[0m\n\u001b[1;32m      4\u001b[0m \u001b[0mprint\u001b[0m\u001b[0;34m(\u001b[0m\u001b[0;34m'The reverse of item in list:'\u001b[0m \u001b[0;34m,\u001b[0m\u001b[0muser\u001b[0m\u001b[0;34m[\u001b[0m\u001b[0;34m:\u001b[0m\u001b[0;34m:\u001b[0m\u001b[0;34m-\u001b[0m\u001b[0;36m1\u001b[0m\u001b[0;34m]\u001b[0m\u001b[0;34m)\u001b[0m\u001b[0;34m\u001b[0m\u001b[0;34m\u001b[0m\u001b[0m\n",
            "\u001b[0;31mTypeError\u001b[0m: object of type 'int' has no len()"
          ]
        }
      ]
    },
    {
      "cell_type": "markdown",
      "metadata": {
        "id": "kLo3bjNcLgWM",
        "colab_type": "text"
      },
      "source": [
        "**Q4: write a program that generates 1,100 numbers and perform the following**"
      ]
    },
    {
      "cell_type": "code",
      "metadata": {
        "id": "MX-4XFmHLgsW",
        "colab_type": "code",
        "outputId": "29c28ca7-3d7d-4f24-f541-2e9f626a4922",
        "colab": {
          "base_uri": "https://localhost:8080/",
          "height": 68
        }
      },
      "source": [
        "import random\n",
        "r=random.randint(1,100)\n",
        "print(r)\n",
        "print(r/3,'average')\n",
        "print(r % 2,'even numbers')\n"
      ],
      "execution_count": 0,
      "outputs": [
        {
          "output_type": "stream",
          "text": [
            "43\n",
            "14.333333333333334 average\n",
            "1 even numbers\n"
          ],
          "name": "stdout"
        }
      ]
    },
    {
      "cell_type": "markdown",
      "metadata": {
        "id": "De-Pz-IkMFw9",
        "colab_type": "text"
      },
      "source": [
        "**Q5: start with the list[8,9,10] and do the following**"
      ]
    },
    {
      "cell_type": "code",
      "metadata": {
        "id": "KKGTROT_MGB0",
        "colab_type": "code",
        "colab": {}
      },
      "source": [
        ""
      ],
      "execution_count": 0,
      "outputs": []
    }
  ]
}